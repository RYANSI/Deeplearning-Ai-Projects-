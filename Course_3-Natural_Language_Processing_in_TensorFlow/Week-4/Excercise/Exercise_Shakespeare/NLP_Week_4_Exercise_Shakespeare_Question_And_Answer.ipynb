{
  "nbformat": 4,
  "nbformat_minor": 0,
  "metadata": {
    "colab": {
      "name": "NLP_Week_4-Exercise_Shakespeare_Question_And_Answer.ipynb",
      "version": "0.3.2",
      "provenance": [],
      "collapsed_sections": []
    },
    "kernelspec": {
      "name": "python3",
      "display_name": "Python 3"
    },
    "accelerator": "GPU"
  },
  "cells": [
    {
      "cell_type": "code",
      "metadata": {
        "id": "BOwsuGQQY9OL",
        "colab_type": "code",
        "colab": {}
      },
      "source": [
        "from tensorflow.keras.preprocessing.sequence import pad_sequences\n",
        "from tensorflow.keras.layers import Embedding, LSTM, Dense, Dropout, Bidirectional\n",
        "from tensorflow.keras.preprocessing.text import Tokenizer\n",
        "from tensorflow.keras.models import Sequential\n",
        "from tensorflow.keras.optimizers import Adam\n",
        "### YOUR CODE HERE\n",
        "# Figure out how to import regularizers\n",
        "###\n",
        "from tensorflow.keras import regularizers\n",
        "import tensorflow.keras.utils as ku \n",
        "import numpy as np "
      ],
      "execution_count": 0,
      "outputs": []
    },
    {
      "cell_type": "code",
      "metadata": {
        "colab_type": "code",
        "id": "PRnDnCW-Z7qv",
        "colab": {
          "base_uri": "https://localhost:8080/",
          "height": 219
        },
        "outputId": "c5cb89b0-884a-45d7-b489-10bf72cf13e5"
      },
      "source": [
        "tokenizer = Tokenizer()\n",
        "!wget --no-check-certificate \\\n",
        "    https://storage.googleapis.com/laurencemoroney-blog.appspot.com/sonnets.txt \\\n",
        "    -O /tmp/sonnets.txt\n",
        "data = open('/tmp/sonnets.txt').read()\n",
        "\n",
        "corpus = data.lower().split(\"\\n\")\n",
        "\n",
        "\n",
        "tokenizer.fit_on_texts(corpus)\n",
        "total_words = len(tokenizer.word_index) + 1\n",
        "\n",
        "# create input sequences using list of tokens\n",
        "input_sequences = []\n",
        "for line in corpus:\n",
        "\ttoken_list = tokenizer.texts_to_sequences([line])[0]\n",
        "\tfor i in range(1, len(token_list)):\n",
        "\t\tn_gram_sequence = token_list[:i+1]\n",
        "\t\tinput_sequences.append(n_gram_sequence)\n",
        "\n",
        "\n",
        "# pad sequences \n",
        "max_sequence_len = max([len(x) for x in input_sequences])\n",
        "input_sequences = np.array(pad_sequences(input_sequences, maxlen=max_sequence_len, padding='pre'))\n",
        "\n",
        "# create predictors and label\n",
        "predictors, label = input_sequences[:,:-1],input_sequences[:,-1]\n",
        "\n",
        "label = ku.to_categorical(label, num_classes=total_words)"
      ],
      "execution_count": 2,
      "outputs": [
        {
          "output_type": "stream",
          "text": [
            "--2019-08-21 11:25:07--  https://storage.googleapis.com/laurencemoroney-blog.appspot.com/sonnets.txt\n",
            "Resolving storage.googleapis.com (storage.googleapis.com)... 172.217.212.128, 2607:f8b0:4001:c03::80\n",
            "Connecting to storage.googleapis.com (storage.googleapis.com)|172.217.212.128|:443... connected.\n",
            "HTTP request sent, awaiting response... 200 OK\n",
            "Length: 93578 (91K) [text/plain]\n",
            "Saving to: ‘/tmp/sonnets.txt’\n",
            "\n",
            "\r/tmp/sonnets.txt      0%[                    ]       0  --.-KB/s               \r/tmp/sonnets.txt    100%[===================>]  91.38K  --.-KB/s    in 0.001s  \n",
            "\n",
            "2019-08-21 11:25:07 (117 MB/s) - ‘/tmp/sonnets.txt’ saved [93578/93578]\n",
            "\n"
          ],
          "name": "stdout"
        }
      ]
    },
    {
      "cell_type": "code",
      "metadata": {
        "id": "w9vH8Y59ajYL",
        "colab_type": "code",
        "colab": {
          "base_uri": "https://localhost:8080/",
          "height": 403
        },
        "outputId": "38727060-caf3-4bb8-af15-70e90e0159f7"
      },
      "source": [
        "model = Sequential()\n",
        "model.add(Embedding(total_words, 100, input_length = max_sequence_len - 1)) # Your Embedding Layer\n",
        "model.add(Bidirectional(LSTM(150, return_sequences = True))) # An LSTM Layer\n",
        "model.add(Dropout(0.2)) # A dropout layer\n",
        "model.add(LSTM(100)) # Another LSTM Layer\n",
        "model.add(Dense(total_words/2, activation = 'relu', kernel_regularizer = regularizers.l2(0.01))) # A Dense Layer including regularizers\n",
        "model.add(Dense(total_words, activation = 'softmax')) # A Dense Layer\n",
        "# Pick an optimizer \n",
        "model.compile(loss = 'categorical_crossentropy', optimizer = 'adam', metrics = ['accuracy']) # Pick a loss function and an optimizer\n",
        "print(model.summary())"
      ],
      "execution_count": 5,
      "outputs": [
        {
          "output_type": "stream",
          "text": [
            "Model: \"sequential_2\"\n",
            "_________________________________________________________________\n",
            "Layer (type)                 Output Shape              Param #   \n",
            "=================================================================\n",
            "embedding_2 (Embedding)      (None, 10, 100)           321100    \n",
            "_________________________________________________________________\n",
            "bidirectional_1 (Bidirection (None, 10, 300)           301200    \n",
            "_________________________________________________________________\n",
            "dropout_1 (Dropout)          (None, 10, 300)           0         \n",
            "_________________________________________________________________\n",
            "lstm_3 (LSTM)                (None, 100)               160400    \n",
            "_________________________________________________________________\n",
            "dense (Dense)                (None, 1605)              162105    \n",
            "_________________________________________________________________\n",
            "dense_1 (Dense)              (None, 3211)              5156866   \n",
            "=================================================================\n",
            "Total params: 6,101,671\n",
            "Trainable params: 6,101,671\n",
            "Non-trainable params: 0\n",
            "_________________________________________________________________\n",
            "None\n"
          ],
          "name": "stdout"
        }
      ]
    },
    {
      "cell_type": "code",
      "metadata": {
        "id": "AIg2f1HBxqof",
        "colab_type": "code",
        "colab": {
          "base_uri": "https://localhost:8080/",
          "height": 1000
        },
        "outputId": "0df26a0c-105b-47bb-e95d-174d003cfe71"
      },
      "source": [
        " history = model.fit(predictors, label, epochs=100, verbose=1)"
      ],
      "execution_count": 6,
      "outputs": [
        {
          "output_type": "stream",
          "text": [
            "W0821 11:33:27.815165 139679729997696 deprecation.py:323] From /usr/local/lib/python3.6/dist-packages/tensorflow/python/ops/math_grad.py:1250: add_dispatch_support.<locals>.wrapper (from tensorflow.python.ops.array_ops) is deprecated and will be removed in a future version.\n",
            "Instructions for updating:\n",
            "Use tf.where in 2.0, which has the same broadcast rule as np.where\n"
          ],
          "name": "stderr"
        },
        {
          "output_type": "stream",
          "text": [
            "Epoch 1/100\n",
            "15462/15462 [==============================] - 29s 2ms/sample - loss: 6.9108 - acc: 0.0208\n",
            "Epoch 2/100\n",
            "15462/15462 [==============================] - 27s 2ms/sample - loss: 6.4973 - acc: 0.0217\n",
            "Epoch 3/100\n",
            "15462/15462 [==============================] - 27s 2ms/sample - loss: 6.3763 - acc: 0.0244\n",
            "Epoch 4/100\n",
            "15462/15462 [==============================] - 27s 2ms/sample - loss: 6.2561 - acc: 0.0305\n",
            "Epoch 5/100\n",
            "15462/15462 [==============================] - 27s 2ms/sample - loss: 6.1716 - acc: 0.0353\n",
            "Epoch 6/100\n",
            "15462/15462 [==============================] - 27s 2ms/sample - loss: 6.0945 - acc: 0.0385\n",
            "Epoch 7/100\n",
            "15462/15462 [==============================] - 27s 2ms/sample - loss: 6.0183 - acc: 0.0407\n",
            "Epoch 8/100\n",
            "15462/15462 [==============================] - 27s 2ms/sample - loss: 5.9328 - acc: 0.0438\n",
            "Epoch 9/100\n",
            "15462/15462 [==============================] - 27s 2ms/sample - loss: 5.8368 - acc: 0.0484\n",
            "Epoch 10/100\n",
            "15462/15462 [==============================] - 27s 2ms/sample - loss: 5.7345 - acc: 0.0557\n",
            "Epoch 11/100\n",
            "15462/15462 [==============================] - 27s 2ms/sample - loss: 5.6327 - acc: 0.0638\n",
            "Epoch 12/100\n",
            "15462/15462 [==============================] - 26s 2ms/sample - loss: 5.5282 - acc: 0.0695\n",
            "Epoch 13/100\n",
            "15462/15462 [==============================] - 26s 2ms/sample - loss: 5.4191 - acc: 0.0757\n",
            "Epoch 14/100\n",
            "15462/15462 [==============================] - 27s 2ms/sample - loss: 5.3136 - acc: 0.0824\n",
            "Epoch 15/100\n",
            "15462/15462 [==============================] - 26s 2ms/sample - loss: 5.2014 - acc: 0.0881\n",
            "Epoch 16/100\n",
            "15462/15462 [==============================] - 26s 2ms/sample - loss: 5.0929 - acc: 0.0969\n",
            "Epoch 17/100\n",
            "15462/15462 [==============================] - 26s 2ms/sample - loss: 4.9889 - acc: 0.1035\n",
            "Epoch 18/100\n",
            "15462/15462 [==============================] - 26s 2ms/sample - loss: 4.8820 - acc: 0.1105\n",
            "Epoch 19/100\n",
            "15462/15462 [==============================] - 26s 2ms/sample - loss: 4.7714 - acc: 0.1213\n",
            "Epoch 20/100\n",
            "15462/15462 [==============================] - 26s 2ms/sample - loss: 4.6681 - acc: 0.1304\n",
            "Epoch 21/100\n",
            "15462/15462 [==============================] - 26s 2ms/sample - loss: 4.5620 - acc: 0.1374\n",
            "Epoch 22/100\n",
            "15462/15462 [==============================] - 26s 2ms/sample - loss: 4.4551 - acc: 0.1502\n",
            "Epoch 23/100\n",
            "15462/15462 [==============================] - 26s 2ms/sample - loss: 4.3515 - acc: 0.1640\n",
            "Epoch 24/100\n",
            "15462/15462 [==============================] - 26s 2ms/sample - loss: 4.2387 - acc: 0.1755\n",
            "Epoch 25/100\n",
            "15462/15462 [==============================] - 26s 2ms/sample - loss: 4.1446 - acc: 0.1853\n",
            "Epoch 26/100\n",
            "15462/15462 [==============================] - 26s 2ms/sample - loss: 4.0353 - acc: 0.2011\n",
            "Epoch 27/100\n",
            "15462/15462 [==============================] - 26s 2ms/sample - loss: 3.9299 - acc: 0.2172\n",
            "Epoch 28/100\n",
            "15462/15462 [==============================] - 26s 2ms/sample - loss: 3.8295 - acc: 0.2328\n",
            "Epoch 29/100\n",
            "15462/15462 [==============================] - 26s 2ms/sample - loss: 3.7338 - acc: 0.2529\n",
            "Epoch 30/100\n",
            "15462/15462 [==============================] - 26s 2ms/sample - loss: 3.6200 - acc: 0.2740\n",
            "Epoch 31/100\n",
            "15462/15462 [==============================] - 26s 2ms/sample - loss: 3.5344 - acc: 0.2939\n",
            "Epoch 32/100\n",
            "15462/15462 [==============================] - 26s 2ms/sample - loss: 3.4360 - acc: 0.3109\n",
            "Epoch 33/100\n",
            "15462/15462 [==============================] - 26s 2ms/sample - loss: 3.3458 - acc: 0.3330\n",
            "Epoch 34/100\n",
            "15462/15462 [==============================] - 26s 2ms/sample - loss: 3.2473 - acc: 0.3547\n",
            "Epoch 35/100\n",
            "15462/15462 [==============================] - 26s 2ms/sample - loss: 3.1758 - acc: 0.3721\n",
            "Epoch 36/100\n",
            "15462/15462 [==============================] - 26s 2ms/sample - loss: 3.0851 - acc: 0.3924\n",
            "Epoch 37/100\n",
            "15462/15462 [==============================] - 26s 2ms/sample - loss: 3.0128 - acc: 0.4055\n",
            "Epoch 38/100\n",
            "15462/15462 [==============================] - 26s 2ms/sample - loss: 2.9238 - acc: 0.4318\n",
            "Epoch 39/100\n",
            "15462/15462 [==============================] - 26s 2ms/sample - loss: 2.8449 - acc: 0.4502\n",
            "Epoch 40/100\n",
            "15462/15462 [==============================] - 26s 2ms/sample - loss: 2.7654 - acc: 0.4651\n",
            "Epoch 41/100\n",
            "15462/15462 [==============================] - 26s 2ms/sample - loss: 2.7054 - acc: 0.4774\n",
            "Epoch 42/100\n",
            "15462/15462 [==============================] - 26s 2ms/sample - loss: 2.6452 - acc: 0.4939\n",
            "Epoch 43/100\n",
            "15462/15462 [==============================] - 26s 2ms/sample - loss: 2.5907 - acc: 0.5068\n",
            "Epoch 44/100\n",
            "15462/15462 [==============================] - 26s 2ms/sample - loss: 2.5186 - acc: 0.5217\n",
            "Epoch 45/100\n",
            "15462/15462 [==============================] - 26s 2ms/sample - loss: 2.4469 - acc: 0.5376\n",
            "Epoch 46/100\n",
            "15462/15462 [==============================] - 26s 2ms/sample - loss: 2.4058 - acc: 0.5471\n",
            "Epoch 47/100\n",
            "15462/15462 [==============================] - 26s 2ms/sample - loss: 2.3392 - acc: 0.5598\n",
            "Epoch 48/100\n",
            "15462/15462 [==============================] - 26s 2ms/sample - loss: 2.2845 - acc: 0.5736\n",
            "Epoch 49/100\n",
            "15462/15462 [==============================] - 26s 2ms/sample - loss: 2.2408 - acc: 0.5830\n",
            "Epoch 50/100\n",
            "15462/15462 [==============================] - 26s 2ms/sample - loss: 2.1918 - acc: 0.5980\n",
            "Epoch 51/100\n",
            "15462/15462 [==============================] - 26s 2ms/sample - loss: 2.1499 - acc: 0.6076\n",
            "Epoch 52/100\n",
            "15462/15462 [==============================] - 26s 2ms/sample - loss: 2.1132 - acc: 0.6112\n",
            "Epoch 53/100\n",
            "15462/15462 [==============================] - 26s 2ms/sample - loss: 2.0495 - acc: 0.6286\n",
            "Epoch 54/100\n",
            "15462/15462 [==============================] - 26s 2ms/sample - loss: 2.0204 - acc: 0.6314\n",
            "Epoch 55/100\n",
            "15462/15462 [==============================] - 26s 2ms/sample - loss: 1.9849 - acc: 0.6422\n",
            "Epoch 56/100\n",
            "15462/15462 [==============================] - 26s 2ms/sample - loss: 1.9232 - acc: 0.6554\n",
            "Epoch 57/100\n",
            "15462/15462 [==============================] - 26s 2ms/sample - loss: 1.8966 - acc: 0.6640\n",
            "Epoch 58/100\n",
            "15462/15462 [==============================] - 26s 2ms/sample - loss: 1.8563 - acc: 0.6702\n",
            "Epoch 59/100\n",
            "15462/15462 [==============================] - 26s 2ms/sample - loss: 1.8303 - acc: 0.6735\n",
            "Epoch 60/100\n",
            "15462/15462 [==============================] - 26s 2ms/sample - loss: 1.7881 - acc: 0.6865\n",
            "Epoch 61/100\n",
            "15462/15462 [==============================] - 26s 2ms/sample - loss: 1.7548 - acc: 0.6904\n",
            "Epoch 62/100\n",
            "15462/15462 [==============================] - 26s 2ms/sample - loss: 1.7365 - acc: 0.6972\n",
            "Epoch 63/100\n",
            "15462/15462 [==============================] - 26s 2ms/sample - loss: 1.6962 - acc: 0.7061\n",
            "Epoch 64/100\n",
            "15462/15462 [==============================] - 26s 2ms/sample - loss: 1.6829 - acc: 0.7059\n",
            "Epoch 65/100\n",
            "15462/15462 [==============================] - 26s 2ms/sample - loss: 1.6400 - acc: 0.7150\n",
            "Epoch 66/100\n",
            "15462/15462 [==============================] - 25s 2ms/sample - loss: 1.6218 - acc: 0.7170\n",
            "Epoch 67/100\n",
            "15462/15462 [==============================] - 26s 2ms/sample - loss: 1.5904 - acc: 0.7267\n",
            "Epoch 68/100\n",
            "15462/15462 [==============================] - 25s 2ms/sample - loss: 1.5581 - acc: 0.7313\n",
            "Epoch 69/100\n",
            "15462/15462 [==============================] - 26s 2ms/sample - loss: 1.5355 - acc: 0.7370\n",
            "Epoch 70/100\n",
            "15462/15462 [==============================] - 26s 2ms/sample - loss: 1.5273 - acc: 0.7361\n",
            "Epoch 71/100\n",
            "15462/15462 [==============================] - 25s 2ms/sample - loss: 1.4928 - acc: 0.7468\n",
            "Epoch 72/100\n",
            "15462/15462 [==============================] - 25s 2ms/sample - loss: 1.4863 - acc: 0.7423\n",
            "Epoch 73/100\n",
            "15462/15462 [==============================] - 25s 2ms/sample - loss: 1.4707 - acc: 0.7460\n",
            "Epoch 74/100\n",
            "15462/15462 [==============================] - 26s 2ms/sample - loss: 1.4463 - acc: 0.7473\n",
            "Epoch 75/100\n",
            "15462/15462 [==============================] - 26s 2ms/sample - loss: 1.4119 - acc: 0.7597\n",
            "Epoch 76/100\n",
            "15462/15462 [==============================] - 25s 2ms/sample - loss: 1.4023 - acc: 0.7563\n",
            "Epoch 77/100\n",
            "15462/15462 [==============================] - 25s 2ms/sample - loss: 1.3801 - acc: 0.7619\n",
            "Epoch 78/100\n",
            "15462/15462 [==============================] - 26s 2ms/sample - loss: 1.3503 - acc: 0.7700\n",
            "Epoch 79/100\n",
            "15462/15462 [==============================] - 26s 2ms/sample - loss: 1.3337 - acc: 0.7726\n",
            "Epoch 80/100\n",
            "15462/15462 [==============================] - 26s 2ms/sample - loss: 1.3330 - acc: 0.7738\n",
            "Epoch 81/100\n",
            "15462/15462 [==============================] - 25s 2ms/sample - loss: 1.3136 - acc: 0.7758\n",
            "Epoch 82/100\n",
            "15462/15462 [==============================] - 25s 2ms/sample - loss: 1.3149 - acc: 0.7723\n",
            "Epoch 83/100\n",
            "15462/15462 [==============================] - 25s 2ms/sample - loss: 1.2834 - acc: 0.7813\n",
            "Epoch 84/100\n",
            "15462/15462 [==============================] - 25s 2ms/sample - loss: 1.2701 - acc: 0.7848\n",
            "Epoch 85/100\n",
            "15462/15462 [==============================] - 25s 2ms/sample - loss: 1.2580 - acc: 0.7861\n",
            "Epoch 86/100\n",
            "15462/15462 [==============================] - 26s 2ms/sample - loss: 1.2484 - acc: 0.7855\n",
            "Epoch 87/100\n",
            "15462/15462 [==============================] - 25s 2ms/sample - loss: 1.2230 - acc: 0.7901\n",
            "Epoch 88/100\n",
            "15462/15462 [==============================] - 25s 2ms/sample - loss: 1.2184 - acc: 0.7902\n",
            "Epoch 89/100\n",
            "15462/15462 [==============================] - 25s 2ms/sample - loss: 1.1927 - acc: 0.7976\n",
            "Epoch 90/100\n",
            "15462/15462 [==============================] - 25s 2ms/sample - loss: 1.2003 - acc: 0.7925\n",
            "Epoch 91/100\n",
            "15462/15462 [==============================] - 25s 2ms/sample - loss: 1.1932 - acc: 0.7943\n",
            "Epoch 92/100\n",
            "15462/15462 [==============================] - 25s 2ms/sample - loss: 1.1847 - acc: 0.7954\n",
            "Epoch 93/100\n",
            "15462/15462 [==============================] - 25s 2ms/sample - loss: 1.1652 - acc: 0.7989\n",
            "Epoch 94/100\n",
            "15462/15462 [==============================] - 25s 2ms/sample - loss: 1.1510 - acc: 0.8038\n",
            "Epoch 95/100\n",
            "15462/15462 [==============================] - 25s 2ms/sample - loss: 1.1375 - acc: 0.8024\n",
            "Epoch 96/100\n",
            "15462/15462 [==============================] - 25s 2ms/sample - loss: 1.1300 - acc: 0.8033\n",
            "Epoch 97/100\n",
            "15462/15462 [==============================] - 25s 2ms/sample - loss: 1.1228 - acc: 0.8047\n",
            "Epoch 98/100\n",
            "15462/15462 [==============================] - 25s 2ms/sample - loss: 1.1041 - acc: 0.8124\n",
            "Epoch 99/100\n",
            "15462/15462 [==============================] - 26s 2ms/sample - loss: 1.0895 - acc: 0.8127\n",
            "Epoch 100/100\n",
            "15462/15462 [==============================] - 25s 2ms/sample - loss: 1.0983 - acc: 0.8077\n"
          ],
          "name": "stdout"
        }
      ]
    },
    {
      "cell_type": "code",
      "metadata": {
        "id": "1fXTEO3GJ282",
        "colab_type": "code",
        "colab": {
          "base_uri": "https://localhost:8080/",
          "height": 545
        },
        "outputId": "c3361cde-a8bd-4f83-f65c-589183f887ce"
      },
      "source": [
        "import matplotlib.pyplot as plt\n",
        "acc = history.history['acc']\n",
        "loss = history.history['loss']\n",
        "\n",
        "epochs = range(len(acc))\n",
        "\n",
        "plt.plot(epochs, acc, 'b', label='Training accuracy')\n",
        "plt.title('Training accuracy')\n",
        "\n",
        "plt.figure()\n",
        "\n",
        "plt.plot(epochs, loss, 'b', label='Training Loss')\n",
        "plt.title('Training loss')\n",
        "plt.legend()\n",
        "\n",
        "plt.show()"
      ],
      "execution_count": 7,
      "outputs": [
        {
          "output_type": "display_data",
          "data": {
            "image/png": "[encoded data removed]",
            "text/plain": [
              "<Figure size 432x288 with 1 Axes>"
            ]
          },
          "metadata": {
            "tags": []
          }
        },
        {
          "output_type": "display_data",
          "data": {
            "image/png": "[encoded data removed]",
            "text/plain": [
              "<Figure size 432x288 with 1 Axes>"
            ]
          },
          "metadata": {
            "tags": []
          }
        }
      ]
    },
    {
      "cell_type": "code",
      "metadata": {
        "id": "6Vc6PHgxa6Hm",
        "colab_type": "code",
        "colab": {
          "base_uri": "https://localhost:8080/",
          "height": 55
        },
        "outputId": "2d78dcac-48cc-4e28-ba1b-38eddbc895d8"
      },
      "source": [
        "seed_text = \"Help me Obi Wan Kenobi, you're my only hope\"\n",
        "next_words = 100\n",
        "  \n",
        "for _ in range(next_words):\n",
        "\ttoken_list = tokenizer.texts_to_sequences([seed_text])[0]\n",
        "\ttoken_list = pad_sequences([token_list], maxlen=max_sequence_len-1, padding='pre')\n",
        "\tpredicted = model.predict_classes(token_list, verbose=0)\n",
        "\toutput_word = \"\"\n",
        "\tfor word, index in tokenizer.word_index.items():\n",
        "\t\tif index == predicted:\n",
        "\t\t\toutput_word = word\n",
        "\t\t\tbreak\n",
        "\tseed_text += \" \" + output_word\n",
        "print(seed_text)"
      ],
      "execution_count": 8,
      "outputs": [
        {
          "output_type": "stream",
          "text": [
            "Help me Obi Wan Kenobi, you're my only hope thy fair enjoys my pride lies show thee thee still free free free ' seen grow new hate live go shall die die him ' so view thought bold did make good cross slain grow of woe skill can ride 'will' ill hate on in men read burn days increase find see such dead near slain date new grow leaves sit grow mother mother back do crowned burn were about night are seen gone live days we lies free forth none prove young behind days do cherish back dead gone did stand of shouldst approve thee back back now brought\n"
          ],
          "name": "stdout"
        }
      ]
    },
    {
      "cell_type": "code",
      "metadata": {
        "id": "8aa44PRCG-mQ",
        "colab_type": "code",
        "colab": {}
      },
      "source": [
        ""
      ],
      "execution_count": 0,
      "outputs": []
    }
  ]
}
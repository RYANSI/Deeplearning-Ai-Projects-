{
  "nbformat": 4,
  "nbformat_minor": 0,
  "metadata": {
    "colab": {
      "name": "Course_3-Week_3-Lesson_2c.ipynb",
      "version": "0.3.2",
      "provenance": [],
      "collapsed_sections": []
    },
    "kernelspec": {
      "name": "python3",
      "display_name": "Python 3"
    },
    "accelerator": "GPU"
  },
  "cells": [
    {
      "cell_type": "code",
      "metadata": {
        "id": "jGwXGIXvFhXW",
        "colab_type": "code",
        "colab": {
          "base_uri": "https://localhost:8080/",
          "height": 1000
        },
        "outputId": "6c119f07-19ce-479a-f9c6-0c70cca45b98"
      },
      "source": [
        "import json\n",
        "import tensorflow as tf\n",
        "\n",
        "from tensorflow.keras.preprocessing.text import Tokenizer\n",
        "from tensorflow.keras.preprocessing.sequence import pad_sequences\n",
        "\n",
        "!wget --no-check-certificate \\\n",
        "    https://storage.googleapis.com/laurencemoroney-blog.appspot.com/sarcasm.json \\\n",
        "    -O /tmp/sarcasm.json\n",
        "\n",
        "vocab_size = 1000\n",
        "embedding_dim = 16\n",
        "max_length = 120\n",
        "trunc_type='post'\n",
        "padding_type='post'\n",
        "oov_tok = \"<OOV>\"\n",
        "training_size = 20000\n",
        "\n",
        "\n",
        "with open(\"/tmp/sarcasm.json\", 'r') as f:\n",
        "    datastore = json.load(f)\n",
        "\n",
        "\n",
        "sentences = []\n",
        "labels = []\n",
        "urls = []\n",
        "for item in datastore:\n",
        "    sentences.append(item['headline'])\n",
        "    labels.append(item['is_sarcastic'])\n",
        "\n",
        "training_sentences = sentences[0:training_size]\n",
        "testing_sentences = sentences[training_size:]\n",
        "training_labels = labels[0:training_size]\n",
        "testing_labels = labels[training_size:]\n",
        "\n",
        "tokenizer = Tokenizer(num_words=vocab_size, oov_token=oov_tok)\n",
        "tokenizer.fit_on_texts(training_sentences)\n",
        "\n",
        "word_index = tokenizer.word_index\n",
        "\n",
        "training_sequences = tokenizer.texts_to_sequences(training_sentences)\n",
        "training_padded = pad_sequences(training_sequences, maxlen=max_length, padding=padding_type, truncating=trunc_type)\n",
        "\n",
        "testing_sequences = tokenizer.texts_to_sequences(testing_sentences)\n",
        "testing_padded = pad_sequences(testing_sequences, maxlen=max_length, padding=padding_type, truncating=trunc_type)\n",
        "\n",
        "model = tf.keras.Sequential([\n",
        "    tf.keras.layers.Embedding(vocab_size, embedding_dim, input_length=max_length),\n",
        "    tf.keras.layers.Conv1D(128, 5, activation='relu'),\n",
        "    tf.keras.layers.GlobalMaxPooling1D(),\n",
        "    tf.keras.layers.Dense(24, activation='relu'),\n",
        "    tf.keras.layers.Dense(1, activation='sigmoid')\n",
        "])\n",
        "model.compile(loss='binary_crossentropy',optimizer='adam',metrics=['accuracy'])\n",
        "model.summary()\n",
        "\n",
        "num_epochs = 50\n",
        "history = model.fit(training_padded, training_labels, epochs=num_epochs, validation_data=(testing_padded, testing_labels), verbose=1)"
      ],
      "execution_count": 1,
      "outputs": [
        {
          "output_type": "stream",
          "text": [
            "--2019-08-21 02:55:59--  https://storage.googleapis.com/laurencemoroney-blog.appspot.com/sarcasm.json\n",
            "Resolving storage.googleapis.com (storage.googleapis.com)... 108.177.111.128, 2607:f8b0:4001:c07::80\n",
            "Connecting to storage.googleapis.com (storage.googleapis.com)|108.177.111.128|:443... connected.\n",
            "HTTP request sent, awaiting response... 200 OK\n",
            "Length: 5643545 (5.4M) [application/json]\n",
            "Saving to: ‘/tmp/sarcasm.json’\n",
            "\n",
            "\r/tmp/sarcasm.json     0%[                    ]       0  --.-KB/s               \r/tmp/sarcasm.json   100%[===================>]   5.38M  --.-KB/s    in 0.06s   \n",
            "\n",
            "2019-08-21 02:55:59 (87.2 MB/s) - ‘/tmp/sarcasm.json’ saved [5643545/5643545]\n",
            "\n"
          ],
          "name": "stdout"
        },
        {
          "output_type": "stream",
          "text": [
            "WARNING: Logging before flag parsing goes to stderr.\n",
            "W0821 02:56:02.672984 140309290579840 deprecation.py:323] From /usr/local/lib/python3.6/dist-packages/tensorflow/python/ops/math_grad.py:1250: add_dispatch_support.<locals>.wrapper (from tensorflow.python.ops.array_ops) is deprecated and will be removed in a future version.\n",
            "Instructions for updating:\n",
            "Use tf.where in 2.0, which has the same broadcast rule as np.where\n"
          ],
          "name": "stderr"
        },
        {
          "output_type": "stream",
          "text": [
            "Model: \"sequential\"\n",
            "_________________________________________________________________\n",
            "Layer (type)                 Output Shape              Param #   \n",
            "=================================================================\n",
            "embedding (Embedding)        (None, 120, 16)           16000     \n",
            "_________________________________________________________________\n",
            "conv1d (Conv1D)              (None, 116, 128)          10368     \n",
            "_________________________________________________________________\n",
            "global_max_pooling1d (Global (None, 128)               0         \n",
            "_________________________________________________________________\n",
            "dense (Dense)                (None, 24)                3096      \n",
            "_________________________________________________________________\n",
            "dense_1 (Dense)              (None, 1)                 25        \n",
            "=================================================================\n",
            "Total params: 29,489\n",
            "Trainable params: 29,489\n",
            "Non-trainable params: 0\n",
            "_________________________________________________________________\n",
            "Train on 20000 samples, validate on 6709 samples\n",
            "Epoch 1/50\n",
            "20000/20000 [==============================] - 7s 354us/sample - loss: 0.4737 - accuracy: 0.7617 - val_loss: 0.4112 - val_accuracy: 0.8138\n",
            "Epoch 2/50\n",
            "20000/20000 [==============================] - 7s 336us/sample - loss: 0.3578 - accuracy: 0.8393 - val_loss: 0.3946 - val_accuracy: 0.8214\n",
            "Epoch 3/50\n",
            "20000/20000 [==============================] - 7s 340us/sample - loss: 0.3188 - accuracy: 0.8583 - val_loss: 0.4152 - val_accuracy: 0.8095\n",
            "Epoch 4/50\n",
            "20000/20000 [==============================] - 7s 336us/sample - loss: 0.2850 - accuracy: 0.8794 - val_loss: 0.4140 - val_accuracy: 0.8144\n",
            "Epoch 5/50\n",
            "20000/20000 [==============================] - 7s 336us/sample - loss: 0.2535 - accuracy: 0.8946 - val_loss: 0.4337 - val_accuracy: 0.8153\n",
            "Epoch 6/50\n",
            "20000/20000 [==============================] - 7s 335us/sample - loss: 0.2213 - accuracy: 0.9125 - val_loss: 0.4966 - val_accuracy: 0.8044\n",
            "Epoch 7/50\n",
            "20000/20000 [==============================] - 7s 338us/sample - loss: 0.1897 - accuracy: 0.9276 - val_loss: 0.5288 - val_accuracy: 0.8079\n",
            "Epoch 8/50\n",
            "20000/20000 [==============================] - 7s 335us/sample - loss: 0.1633 - accuracy: 0.9377 - val_loss: 0.5720 - val_accuracy: 0.8052\n",
            "Epoch 9/50\n",
            "20000/20000 [==============================] - 7s 338us/sample - loss: 0.1352 - accuracy: 0.9508 - val_loss: 0.6625 - val_accuracy: 0.7982\n",
            "Epoch 10/50\n",
            "20000/20000 [==============================] - 7s 337us/sample - loss: 0.1117 - accuracy: 0.9610 - val_loss: 0.7295 - val_accuracy: 0.7904\n",
            "Epoch 11/50\n",
            "20000/20000 [==============================] - 7s 342us/sample - loss: 0.0950 - accuracy: 0.9672 - val_loss: 0.8295 - val_accuracy: 0.7961\n",
            "Epoch 12/50\n",
            "20000/20000 [==============================] - 7s 341us/sample - loss: 0.0801 - accuracy: 0.9714 - val_loss: 0.8746 - val_accuracy: 0.7918\n",
            "Epoch 13/50\n",
            "20000/20000 [==============================] - 7s 336us/sample - loss: 0.0698 - accuracy: 0.9756 - val_loss: 0.9830 - val_accuracy: 0.7919\n",
            "Epoch 14/50\n",
            "20000/20000 [==============================] - 7s 340us/sample - loss: 0.0618 - accuracy: 0.9786 - val_loss: 1.0745 - val_accuracy: 0.7886\n",
            "Epoch 15/50\n",
            "20000/20000 [==============================] - 7s 336us/sample - loss: 0.0584 - accuracy: 0.9790 - val_loss: 1.1163 - val_accuracy: 0.7894\n",
            "Epoch 16/50\n",
            "20000/20000 [==============================] - 7s 333us/sample - loss: 0.0511 - accuracy: 0.9816 - val_loss: 1.1617 - val_accuracy: 0.7857\n",
            "Epoch 17/50\n",
            "20000/20000 [==============================] - 7s 336us/sample - loss: 0.0455 - accuracy: 0.9834 - val_loss: 1.2604 - val_accuracy: 0.7894\n",
            "Epoch 18/50\n",
            "20000/20000 [==============================] - 7s 341us/sample - loss: 0.0425 - accuracy: 0.9844 - val_loss: 1.2992 - val_accuracy: 0.7867\n",
            "Epoch 19/50\n",
            "20000/20000 [==============================] - 7s 333us/sample - loss: 0.0417 - accuracy: 0.9844 - val_loss: 1.3595 - val_accuracy: 0.7824\n",
            "Epoch 20/50\n",
            "20000/20000 [==============================] - 7s 331us/sample - loss: 0.0393 - accuracy: 0.9847 - val_loss: 1.4184 - val_accuracy: 0.7870\n",
            "Epoch 21/50\n",
            "20000/20000 [==============================] - 7s 334us/sample - loss: 0.0367 - accuracy: 0.9857 - val_loss: 1.4431 - val_accuracy: 0.7867\n",
            "Epoch 22/50\n",
            "20000/20000 [==============================] - 7s 332us/sample - loss: 0.0345 - accuracy: 0.9861 - val_loss: 1.5182 - val_accuracy: 0.7883\n",
            "Epoch 23/50\n",
            "20000/20000 [==============================] - 7s 342us/sample - loss: 0.0335 - accuracy: 0.9865 - val_loss: 1.5550 - val_accuracy: 0.7873\n",
            "Epoch 24/50\n",
            "20000/20000 [==============================] - 7s 341us/sample - loss: 0.0301 - accuracy: 0.9883 - val_loss: 1.5612 - val_accuracy: 0.7831\n",
            "Epoch 25/50\n",
            "20000/20000 [==============================] - 7s 337us/sample - loss: 0.0365 - accuracy: 0.9858 - val_loss: 1.5775 - val_accuracy: 0.7863\n",
            "Epoch 26/50\n",
            "20000/20000 [==============================] - 7s 342us/sample - loss: 0.0305 - accuracy: 0.9880 - val_loss: 1.6300 - val_accuracy: 0.7769\n",
            "Epoch 27/50\n",
            "20000/20000 [==============================] - 7s 336us/sample - loss: 0.0293 - accuracy: 0.9883 - val_loss: 1.6158 - val_accuracy: 0.7827\n",
            "Epoch 28/50\n",
            "20000/20000 [==============================] - 7s 334us/sample - loss: 0.0247 - accuracy: 0.9901 - val_loss: 1.7082 - val_accuracy: 0.7824\n",
            "Epoch 29/50\n",
            "20000/20000 [==============================] - 7s 335us/sample - loss: 0.0267 - accuracy: 0.9890 - val_loss: 1.6812 - val_accuracy: 0.7791\n",
            "Epoch 30/50\n",
            "20000/20000 [==============================] - 7s 337us/sample - loss: 0.0339 - accuracy: 0.9862 - val_loss: 1.7238 - val_accuracy: 0.7866\n",
            "Epoch 31/50\n",
            "20000/20000 [==============================] - 7s 336us/sample - loss: 0.0308 - accuracy: 0.9877 - val_loss: 1.7770 - val_accuracy: 0.7793\n",
            "Epoch 32/50\n",
            "20000/20000 [==============================] - 7s 336us/sample - loss: 0.0280 - accuracy: 0.9883 - val_loss: 1.7090 - val_accuracy: 0.7834\n",
            "Epoch 33/50\n",
            "20000/20000 [==============================] - 7s 346us/sample - loss: 0.0233 - accuracy: 0.9905 - val_loss: 1.7912 - val_accuracy: 0.7831\n",
            "Epoch 34/50\n",
            "20000/20000 [==============================] - 7s 352us/sample - loss: 0.0234 - accuracy: 0.9900 - val_loss: 1.8026 - val_accuracy: 0.7812\n",
            "Epoch 35/50\n",
            "20000/20000 [==============================] - 7s 350us/sample - loss: 0.0239 - accuracy: 0.9904 - val_loss: 1.7862 - val_accuracy: 0.7825\n",
            "Epoch 36/50\n",
            "20000/20000 [==============================] - 7s 341us/sample - loss: 0.0244 - accuracy: 0.9900 - val_loss: 1.8427 - val_accuracy: 0.7846\n",
            "Epoch 37/50\n",
            "20000/20000 [==============================] - 7s 333us/sample - loss: 0.0226 - accuracy: 0.9901 - val_loss: 1.8743 - val_accuracy: 0.7895\n",
            "Epoch 38/50\n",
            "20000/20000 [==============================] - 7s 336us/sample - loss: 0.0217 - accuracy: 0.9907 - val_loss: 1.8817 - val_accuracy: 0.7813\n",
            "Epoch 39/50\n",
            "20000/20000 [==============================] - 7s 337us/sample - loss: 0.0235 - accuracy: 0.9901 - val_loss: 1.9018 - val_accuracy: 0.7895\n",
            "Epoch 40/50\n",
            "20000/20000 [==============================] - 7s 344us/sample - loss: 0.0275 - accuracy: 0.9887 - val_loss: 1.9255 - val_accuracy: 0.7904\n",
            "Epoch 41/50\n",
            "20000/20000 [==============================] - 7s 340us/sample - loss: 0.0259 - accuracy: 0.9893 - val_loss: 1.9044 - val_accuracy: 0.7822\n",
            "Epoch 42/50\n",
            "20000/20000 [==============================] - 7s 338us/sample - loss: 0.0219 - accuracy: 0.9908 - val_loss: 1.9281 - val_accuracy: 0.7886\n",
            "Epoch 43/50\n",
            "20000/20000 [==============================] - 7s 336us/sample - loss: 0.0200 - accuracy: 0.9915 - val_loss: 2.0286 - val_accuracy: 0.7797\n",
            "Epoch 44/50\n",
            "20000/20000 [==============================] - 7s 338us/sample - loss: 0.0218 - accuracy: 0.9911 - val_loss: 1.9200 - val_accuracy: 0.7831\n",
            "Epoch 45/50\n",
            "20000/20000 [==============================] - 7s 338us/sample - loss: 0.0206 - accuracy: 0.9907 - val_loss: 1.9822 - val_accuracy: 0.7864\n",
            "Epoch 46/50\n",
            "20000/20000 [==============================] - 7s 338us/sample - loss: 0.0187 - accuracy: 0.9919 - val_loss: 1.9709 - val_accuracy: 0.7840\n",
            "Epoch 47/50\n",
            "20000/20000 [==============================] - 7s 345us/sample - loss: 0.0202 - accuracy: 0.9915 - val_loss: 1.9716 - val_accuracy: 0.7813\n",
            "Epoch 48/50\n",
            "20000/20000 [==============================] - 7s 343us/sample - loss: 0.0224 - accuracy: 0.9908 - val_loss: 2.0204 - val_accuracy: 0.7784\n",
            "Epoch 49/50\n",
            "20000/20000 [==============================] - 7s 337us/sample - loss: 0.0224 - accuracy: 0.9905 - val_loss: 1.9771 - val_accuracy: 0.7870\n",
            "Epoch 50/50\n",
            "20000/20000 [==============================] - 7s 343us/sample - loss: 0.0236 - accuracy: 0.9904 - val_loss: 1.9640 - val_accuracy: 0.7858\n"
          ],
          "name": "stdout"
        }
      ]
    },
    {
      "cell_type": "code",
      "metadata": {
        "id": "g9DC6dmLF8DC",
        "colab_type": "code",
        "colab": {
          "base_uri": "https://localhost:8080/",
          "height": 549
        },
        "outputId": "598e26f6-8ae8-4e53-baa3-6d224b488c1a"
      },
      "source": [
        "import matplotlib.pyplot as plt\n",
        "\n",
        "\n",
        "def plot_graphs(history, string):\n",
        "    plt.plot(history.history[string])\n",
        "    plt.plot(history.history['val_'+string])\n",
        "    plt.xlabel(\"Epochs\")\n",
        "    plt.ylabel(string)\n",
        "    plt.legend([string, 'val_'+string])\n",
        "    plt.show()\n",
        "\n",
        "plot_graphs(history, 'accuracy')\n",
        "plot_graphs(history, 'loss')"
      ],
      "execution_count": 2,
      "outputs": [
        {
          "output_type": "display_data",
          "data": {
            "image/png": "[encoded data removed]",
            "text/plain": [
              "<Figure size 432x288 with 1 Axes>"
            ]
          },
          "metadata": {
            "tags": []
          }
        },
        {
          "output_type": "display_data",
          "data": {
            "image/png": "[encoded data removed]",
            "text/plain": [
              "<Figure size 432x288 with 1 Axes>"
            ]
          },
          "metadata": {
            "tags": []
          }
        }
      ]
    },
    {
      "cell_type": "code",
      "metadata": {
        "id": "7ZEZIUppGhdi",
        "colab_type": "code",
        "colab": {}
      },
      "source": [
        "model.save(\"test.h5\")"
      ],
      "execution_count": 0,
      "outputs": []
    },
    {
      "cell_type": "code",
      "metadata": {
        "id": "WmgaZXtqH7D2",
        "colab_type": "code",
        "colab": {}
      },
      "source": [
        ""
      ],
      "execution_count": 0,
      "outputs": []
    }
  ]
}
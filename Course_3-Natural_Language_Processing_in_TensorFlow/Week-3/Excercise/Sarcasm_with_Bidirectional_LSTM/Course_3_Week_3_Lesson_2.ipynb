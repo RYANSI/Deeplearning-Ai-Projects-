{
  "nbformat": 4,
  "nbformat_minor": 0,
  "metadata": {
    "colab": {
      "name": "Course_3-Week_3-Lesson_2.ipynb",
      "version": "0.3.2",
      "provenance": [],
      "collapsed_sections": []
    },
    "kernelspec": {
      "name": "python3",
      "display_name": "Python 3"
    },
    "accelerator": "GPU"
  },
  "cells": [
    {
      "cell_type": "code",
      "metadata": {
        "id": "jGwXGIXvFhXW",
        "colab_type": "code",
        "colab": {
          "base_uri": "https://localhost:8080/",
          "height": 1000
        },
        "outputId": "f42825ef-6040-4810-bfad-48ce7e619f54"
      },
      "source": [
        "import json\n",
        "import tensorflow as tf\n",
        "\n",
        "from tensorflow.keras.preprocessing.text import Tokenizer\n",
        "from tensorflow.keras.preprocessing.sequence import pad_sequences\n",
        "\n",
        "!wget --no-check-certificate \\\n",
        "    https://storage.googleapis.com/laurencemoroney-blog.appspot.com/sarcasm.json \\\n",
        "    -O /tmp/sarcasm.json\n",
        "\n",
        "vocab_size = 1000\n",
        "embedding_dim = 16\n",
        "max_length = 120\n",
        "trunc_type='post'\n",
        "padding_type='post'\n",
        "oov_tok = \"<OOV>\"\n",
        "training_size = 20000\n",
        "\n",
        "\n",
        "with open(\"/tmp/sarcasm.json\", 'r') as f:\n",
        "    datastore = json.load(f)\n",
        "\n",
        "\n",
        "sentences = []\n",
        "labels = []\n",
        "urls = []\n",
        "for item in datastore:\n",
        "    sentences.append(item['headline'])\n",
        "    labels.append(item['is_sarcastic'])\n",
        "\n",
        "training_sentences = sentences[0:training_size]\n",
        "testing_sentences = sentences[training_size:]\n",
        "training_labels = labels[0:training_size]\n",
        "testing_labels = labels[training_size:]\n",
        "\n",
        "tokenizer = Tokenizer(num_words=vocab_size, oov_token=oov_tok)\n",
        "tokenizer.fit_on_texts(training_sentences)\n",
        "\n",
        "word_index = tokenizer.word_index\n",
        "\n",
        "training_sequences = tokenizer.texts_to_sequences(training_sentences)\n",
        "training_padded = pad_sequences(training_sequences, maxlen=max_length, padding=padding_type, truncating=trunc_type)\n",
        "\n",
        "testing_sequences = tokenizer.texts_to_sequences(testing_sentences)\n",
        "testing_padded = pad_sequences(testing_sequences, maxlen=max_length, padding=padding_type, truncating=trunc_type)\n",
        "\n",
        "model = tf.keras.Sequential([\n",
        "    tf.keras.layers.Embedding(vocab_size, embedding_dim, input_length=max_length),\n",
        "    tf.keras.layers.Bidirectional(tf.keras.layers.LSTM(32)),\n",
        "    tf.keras.layers.Dense(24, activation='relu'),\n",
        "    tf.keras.layers.Dense(1, activation='sigmoid')\n",
        "])\n",
        "model.compile(loss='binary_crossentropy',optimizer='adam',metrics=['accuracy'])\n",
        "model.summary()\n",
        "\n",
        "num_epochs = 50\n",
        "history = model.fit(training_padded, training_labels, epochs=num_epochs, validation_data=(testing_padded, testing_labels), verbose=1)\n",
        "\n"
      ],
      "execution_count": 1,
      "outputs": [
        {
          "output_type": "stream",
          "text": [
            "--2019-08-21 02:18:00--  https://storage.googleapis.com/laurencemoroney-blog.appspot.com/sarcasm.json\n",
            "Resolving storage.googleapis.com (storage.googleapis.com)... 108.177.112.128, 2607:f8b0:4001:c0b::80\n",
            "Connecting to storage.googleapis.com (storage.googleapis.com)|108.177.112.128|:443... connected.\n",
            "HTTP request sent, awaiting response... 200 OK\n",
            "Length: 5643545 (5.4M) [application/json]\n",
            "Saving to: ‘/tmp/sarcasm.json’\n",
            "\n",
            "\r/tmp/sarcasm.json     0%[                    ]       0  --.-KB/s               \r/tmp/sarcasm.json   100%[===================>]   5.38M  --.-KB/s    in 0.07s   \n",
            "\n",
            "2019-08-21 02:18:00 (80.9 MB/s) - ‘/tmp/sarcasm.json’ saved [5643545/5643545]\n",
            "\n"
          ],
          "name": "stdout"
        },
        {
          "output_type": "stream",
          "text": [
            "WARNING: Logging before flag parsing goes to stderr.\n",
            "W0821 02:18:08.392597 140505382283136 deprecation.py:323] From /usr/local/lib/python3.6/dist-packages/tensorflow/python/ops/math_grad.py:1250: add_dispatch_support.<locals>.wrapper (from tensorflow.python.ops.array_ops) is deprecated and will be removed in a future version.\n",
            "Instructions for updating:\n",
            "Use tf.where in 2.0, which has the same broadcast rule as np.where\n"
          ],
          "name": "stderr"
        },
        {
          "output_type": "stream",
          "text": [
            "Model: \"sequential\"\n",
            "_________________________________________________________________\n",
            "Layer (type)                 Output Shape              Param #   \n",
            "=================================================================\n",
            "embedding (Embedding)        (None, 120, 16)           16000     \n",
            "_________________________________________________________________\n",
            "bidirectional (Bidirectional (None, 64)                12544     \n",
            "_________________________________________________________________\n",
            "dense (Dense)                (None, 24)                1560      \n",
            "_________________________________________________________________\n",
            "dense_1 (Dense)              (None, 1)                 25        \n",
            "=================================================================\n",
            "Total params: 30,129\n",
            "Trainable params: 30,129\n",
            "Non-trainable params: 0\n",
            "_________________________________________________________________\n",
            "Train on 20000 samples, validate on 6709 samples\n",
            "Epoch 1/50\n",
            "20000/20000 [==============================] - 43s 2ms/sample - loss: 0.4579 - accuracy: 0.7656 - val_loss: 0.3890 - val_accuracy: 0.8223\n",
            "Epoch 2/50\n",
            "20000/20000 [==============================] - 41s 2ms/sample - loss: 0.3528 - accuracy: 0.8375 - val_loss: 0.3932 - val_accuracy: 0.8173\n",
            "Epoch 3/50\n",
            "20000/20000 [==============================] - 41s 2ms/sample - loss: 0.3284 - accuracy: 0.8551 - val_loss: 0.3734 - val_accuracy: 0.8299\n",
            "Epoch 4/50\n",
            "20000/20000 [==============================] - 41s 2ms/sample - loss: 0.3122 - accuracy: 0.8605 - val_loss: 0.3774 - val_accuracy: 0.8238\n",
            "Epoch 5/50\n",
            "20000/20000 [==============================] - 42s 2ms/sample - loss: 0.2984 - accuracy: 0.8665 - val_loss: 0.3754 - val_accuracy: 0.8325\n",
            "Epoch 6/50\n",
            "20000/20000 [==============================] - 42s 2ms/sample - loss: 0.2913 - accuracy: 0.8697 - val_loss: 0.3767 - val_accuracy: 0.8346\n",
            "Epoch 7/50\n",
            "20000/20000 [==============================] - 42s 2ms/sample - loss: 0.2812 - accuracy: 0.8770 - val_loss: 0.3907 - val_accuracy: 0.8302\n",
            "Epoch 8/50\n",
            "20000/20000 [==============================] - 43s 2ms/sample - loss: 0.2750 - accuracy: 0.8795 - val_loss: 0.3880 - val_accuracy: 0.8307\n",
            "Epoch 9/50\n",
            "20000/20000 [==============================] - 42s 2ms/sample - loss: 0.2680 - accuracy: 0.8828 - val_loss: 0.4012 - val_accuracy: 0.8299\n",
            "Epoch 10/50\n",
            "20000/20000 [==============================] - 41s 2ms/sample - loss: 0.2617 - accuracy: 0.8870 - val_loss: 0.4225 - val_accuracy: 0.8216\n",
            "Epoch 11/50\n",
            "20000/20000 [==============================] - 41s 2ms/sample - loss: 0.2576 - accuracy: 0.8885 - val_loss: 0.4260 - val_accuracy: 0.8225\n",
            "Epoch 12/50\n",
            "20000/20000 [==============================] - 41s 2ms/sample - loss: 0.2506 - accuracy: 0.8913 - val_loss: 0.4094 - val_accuracy: 0.8268\n",
            "Epoch 13/50\n",
            "20000/20000 [==============================] - 40s 2ms/sample - loss: 0.2435 - accuracy: 0.8954 - val_loss: 0.4134 - val_accuracy: 0.8262\n",
            "Epoch 14/50\n",
            "20000/20000 [==============================] - 41s 2ms/sample - loss: 0.2358 - accuracy: 0.8995 - val_loss: 0.4347 - val_accuracy: 0.8195\n",
            "Epoch 15/50\n",
            "20000/20000 [==============================] - 40s 2ms/sample - loss: 0.2284 - accuracy: 0.9024 - val_loss: 0.4373 - val_accuracy: 0.8238\n",
            "Epoch 16/50\n",
            "20000/20000 [==============================] - 41s 2ms/sample - loss: 0.2207 - accuracy: 0.9052 - val_loss: 0.4585 - val_accuracy: 0.8210\n",
            "Epoch 17/50\n",
            "20000/20000 [==============================] - 40s 2ms/sample - loss: 0.2141 - accuracy: 0.9112 - val_loss: 0.4753 - val_accuracy: 0.8228\n",
            "Epoch 18/50\n",
            "20000/20000 [==============================] - 41s 2ms/sample - loss: 0.2070 - accuracy: 0.9133 - val_loss: 0.5039 - val_accuracy: 0.8219\n",
            "Epoch 19/50\n",
            "20000/20000 [==============================] - 41s 2ms/sample - loss: 0.1994 - accuracy: 0.9175 - val_loss: 0.5007 - val_accuracy: 0.8131\n",
            "Epoch 20/50\n",
            "20000/20000 [==============================] - 42s 2ms/sample - loss: 0.1948 - accuracy: 0.9204 - val_loss: 0.5411 - val_accuracy: 0.8116\n",
            "Epoch 21/50\n",
            "20000/20000 [==============================] - 42s 2ms/sample - loss: 0.1856 - accuracy: 0.9230 - val_loss: 0.5983 - val_accuracy: 0.8111\n",
            "Epoch 22/50\n",
            "20000/20000 [==============================] - 43s 2ms/sample - loss: 0.1783 - accuracy: 0.9256 - val_loss: 0.6034 - val_accuracy: 0.8126\n",
            "Epoch 23/50\n",
            "20000/20000 [==============================] - 42s 2ms/sample - loss: 0.1692 - accuracy: 0.9304 - val_loss: 0.6346 - val_accuracy: 0.8113\n",
            "Epoch 24/50\n",
            "20000/20000 [==============================] - 42s 2ms/sample - loss: 0.1647 - accuracy: 0.9322 - val_loss: 0.7087 - val_accuracy: 0.8106\n",
            "Epoch 25/50\n",
            "20000/20000 [==============================] - 42s 2ms/sample - loss: 0.1597 - accuracy: 0.9345 - val_loss: 0.7176 - val_accuracy: 0.8056\n",
            "Epoch 26/50\n",
            "20000/20000 [==============================] - 42s 2ms/sample - loss: 0.1510 - accuracy: 0.9384 - val_loss: 0.7475 - val_accuracy: 0.8012\n",
            "Epoch 27/50\n",
            "20000/20000 [==============================] - 42s 2ms/sample - loss: 0.1440 - accuracy: 0.9413 - val_loss: 0.7868 - val_accuracy: 0.8021\n",
            "Epoch 28/50\n",
            "20000/20000 [==============================] - 42s 2ms/sample - loss: 0.1396 - accuracy: 0.9438 - val_loss: 0.8177 - val_accuracy: 0.8016\n",
            "Epoch 29/50\n",
            "20000/20000 [==============================] - 42s 2ms/sample - loss: 0.1329 - accuracy: 0.9464 - val_loss: 0.8254 - val_accuracy: 0.8022\n",
            "Epoch 30/50\n",
            "20000/20000 [==============================] - 42s 2ms/sample - loss: 0.1302 - accuracy: 0.9486 - val_loss: 0.7833 - val_accuracy: 0.7992\n",
            "Epoch 31/50\n",
            "20000/20000 [==============================] - 43s 2ms/sample - loss: 0.1230 - accuracy: 0.9496 - val_loss: 0.8816 - val_accuracy: 0.7997\n",
            "Epoch 32/50\n",
            "20000/20000 [==============================] - 42s 2ms/sample - loss: 0.1169 - accuracy: 0.9522 - val_loss: 0.9807 - val_accuracy: 0.8030\n",
            "Epoch 33/50\n",
            "20000/20000 [==============================] - 42s 2ms/sample - loss: 0.1110 - accuracy: 0.9538 - val_loss: 1.0499 - val_accuracy: 0.7952\n",
            "Epoch 34/50\n",
            "20000/20000 [==============================] - 42s 2ms/sample - loss: 0.1069 - accuracy: 0.9567 - val_loss: 1.0493 - val_accuracy: 0.7977\n",
            "Epoch 35/50\n",
            "20000/20000 [==============================] - 42s 2ms/sample - loss: 0.1064 - accuracy: 0.9578 - val_loss: 1.1337 - val_accuracy: 0.8007\n",
            "Epoch 36/50\n",
            "20000/20000 [==============================] - 42s 2ms/sample - loss: 0.0947 - accuracy: 0.9620 - val_loss: 1.0847 - val_accuracy: 0.7933\n",
            "Epoch 37/50\n",
            "20000/20000 [==============================] - 42s 2ms/sample - loss: 0.0979 - accuracy: 0.9609 - val_loss: 1.1622 - val_accuracy: 0.7997\n",
            "Epoch 38/50\n",
            "20000/20000 [==============================] - 43s 2ms/sample - loss: 0.0934 - accuracy: 0.9619 - val_loss: 1.2046 - val_accuracy: 0.7974\n",
            "Epoch 39/50\n",
            "20000/20000 [==============================] - 42s 2ms/sample - loss: 0.0852 - accuracy: 0.9657 - val_loss: 1.2465 - val_accuracy: 0.7956\n",
            "Epoch 40/50\n",
            "20000/20000 [==============================] - 42s 2ms/sample - loss: 0.0844 - accuracy: 0.9653 - val_loss: 1.2141 - val_accuracy: 0.7951\n",
            "Epoch 41/50\n",
            "20000/20000 [==============================] - 42s 2ms/sample - loss: 0.0884 - accuracy: 0.9648 - val_loss: 1.3055 - val_accuracy: 0.7946\n",
            "Epoch 42/50\n",
            "20000/20000 [==============================] - 42s 2ms/sample - loss: 0.0783 - accuracy: 0.9690 - val_loss: 1.2669 - val_accuracy: 0.7943\n",
            "Epoch 43/50\n",
            "20000/20000 [==============================] - 42s 2ms/sample - loss: 0.0720 - accuracy: 0.9716 - val_loss: 1.3778 - val_accuracy: 0.7946\n",
            "Epoch 44/50\n",
            "20000/20000 [==============================] - 42s 2ms/sample - loss: 0.0764 - accuracy: 0.9695 - val_loss: 1.4345 - val_accuracy: 0.7961\n",
            "Epoch 45/50\n",
            "20000/20000 [==============================] - 43s 2ms/sample - loss: 0.0713 - accuracy: 0.9712 - val_loss: 1.5083 - val_accuracy: 0.7933\n",
            "Epoch 46/50\n",
            "20000/20000 [==============================] - 42s 2ms/sample - loss: 0.0719 - accuracy: 0.9718 - val_loss: 1.4866 - val_accuracy: 0.7962\n",
            "Epoch 47/50\n",
            "20000/20000 [==============================] - 42s 2ms/sample - loss: 0.0734 - accuracy: 0.9707 - val_loss: 1.4342 - val_accuracy: 0.7912\n",
            "Epoch 48/50\n",
            "20000/20000 [==============================] - 42s 2ms/sample - loss: 0.0665 - accuracy: 0.9726 - val_loss: 1.4056 - val_accuracy: 0.7928\n",
            "Epoch 49/50\n",
            "20000/20000 [==============================] - 42s 2ms/sample - loss: 0.0575 - accuracy: 0.9758 - val_loss: 1.4793 - val_accuracy: 0.7900\n",
            "Epoch 50/50\n",
            "20000/20000 [==============================] - 42s 2ms/sample - loss: 0.0631 - accuracy: 0.9734 - val_loss: 1.5624 - val_accuracy: 0.7854\n"
          ],
          "name": "stdout"
        }
      ]
    },
    {
      "cell_type": "code",
      "metadata": {
        "id": "g9DC6dmLF8DC",
        "colab_type": "code",
        "colab": {
          "base_uri": "https://localhost:8080/",
          "height": 549
        },
        "outputId": "1213a0db-9566-4858-e5fa-48049f792eaa"
      },
      "source": [
        "import matplotlib.pyplot as plt\n",
        "\n",
        "\n",
        "def plot_graphs(history, string):\n",
        "    plt.plot(history.history[string])\n",
        "    plt.plot(history.history['val_'+string])\n",
        "    plt.xlabel(\"Epochs\")\n",
        "    plt.ylabel(string)\n",
        "    plt.legend([string, 'val_'+string])\n",
        "    plt.show()\n",
        "\n",
        "plot_graphs(history, 'accuracy')\n",
        "plot_graphs(history, 'loss')"
      ],
      "execution_count": 3,
      "outputs": [
        {
          "output_type": "display_data",
          "data": {
            "image/png": "[encoded data removed]",
            "text/plain": [
              "<Figure size 432x288 with 1 Axes>"
            ]
          },
          "metadata": {
            "tags": []
          }
        },
        {
          "output_type": "display_data",
          "data": {
            "image/png": "[encoded data removed]",
            "text/plain": [
              "<Figure size 432x288 with 1 Axes>"
            ]
          },
          "metadata": {
            "tags": []
          }
        }
      ]
    },
    {
      "cell_type": "code",
      "metadata": {
        "id": "7ZEZIUppGhdi",
        "colab_type": "code",
        "colab": {}
      },
      "source": [
        "model.save(\"test.h5\")"
      ],
      "execution_count": 0,
      "outputs": []
    },
    {
      "cell_type": "code",
      "metadata": {
        "id": "di-lrS4sGB2t",
        "colab_type": "code",
        "colab": {}
      },
      "source": [
        ""
      ],
      "execution_count": 0,
      "outputs": []
    }
  ]
}